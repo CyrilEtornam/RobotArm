{
 "cells": [
  {
   "cell_type": "markdown",
   "id": "4b867162",
   "metadata": {},
   "source": [
    "# Robot Arm Training with PPO in Google Colab\n",
    "\n",
    "This notebook implements the training of a robot arm using PPO algorithm in Google Colab with GPU acceleration."
   ]
  },
  {
   "cell_type": "code",
   "id": "fdcbdbad",
   "metadata": {
    "ExecuteTime": {
     "end_time": "2025-08-19T16:30:49.714867Z",
     "start_time": "2025-08-19T16:30:49.550361Z"
    }
   },
   "source": [
    "# Mount Google Drive to access/save models\n",
    "from google.colab import drive\n",
    "drive.mount('/content/drive')"
   ],
   "outputs": [
    {
     "ename": "ModuleNotFoundError",
     "evalue": "No module named 'google'",
     "output_type": "error",
     "traceback": [
      "\u001B[31m---------------------------------------------------------------------------\u001B[39m",
      "\u001B[31mModuleNotFoundError\u001B[39m                       Traceback (most recent call last)",
      "\u001B[36mCell\u001B[39m\u001B[36m \u001B[39m\u001B[32mIn[2]\u001B[39m\u001B[32m, line 2\u001B[39m\n\u001B[32m      1\u001B[39m \u001B[38;5;66;03m# Mount Google Drive to access/save models\u001B[39;00m\n\u001B[32m----> \u001B[39m\u001B[32m2\u001B[39m \u001B[38;5;28;01mfrom\u001B[39;00m\u001B[38;5;250m \u001B[39m\u001B[34;01mgoogle\u001B[39;00m\u001B[34;01m.\u001B[39;00m\u001B[34;01mcolab\u001B[39;00m\u001B[38;5;250m \u001B[39m\u001B[38;5;28;01mimport\u001B[39;00m drive\n\u001B[32m      3\u001B[39m drive.mount(\u001B[33m'\u001B[39m\u001B[33m/content/drive\u001B[39m\u001B[33m'\u001B[39m)\n",
      "\u001B[31mModuleNotFoundError\u001B[39m: No module named 'google'"
     ]
    }
   ],
   "execution_count": 2
  },
  {
   "cell_type": "code",
   "execution_count": null,
   "id": "1d79574a",
   "metadata": {},
   "outputs": [],
   "source": [
    "# Install required packages\n",
    "!pip install gymnasium\n",
    "!pip install stable-baselines3[extra]\n",
    "!pip install mujoco"
   ]
  },
  {
   "cell_type": "code",
   "execution_count": null,
   "id": "51dc379d",
   "metadata": {},
   "outputs": [],
   "source": [
    "# Clone the repository\n",
    "!git clone https://github.com/CyrilEtornam/RobotArm.git\n",
    "%cd RobotArm"
   ]
  },
  {
   "cell_type": "code",
   "execution_count": null,
   "id": "96ba4dd6",
   "metadata": {},
   "outputs": [],
   "source": [
    "# Test cell - verify environment setup\n",
    "import torch\n",
    "print(f'CUDA available: {torch.cuda.is_available()}')\n",
    "if torch.cuda.is_available():\n",
    "    print(f'GPU device: {torch.cuda.get_device_name(0)}')"
   ]
  },
  {
   "cell_type": "code",
   "execution_count": null,
   "id": "3f22d477",
   "metadata": {},
   "outputs": [],
   "source": [
    "import os\n",
    "import torch\n",
    "import numpy as np\n",
    "from gymnasium.wrappers import TimeLimit\n",
    "from stable_baselines3 import PPO\n",
    "from stable_baselines3.common.monitor import Monitor\n",
    "from stable_baselines3.common.callbacks import EvalCallback, CheckpointCallback\n",
    "from stable_baselines3.common.vec_env import DummyVecEnv\n",
    "\n",
    "from envs.robot_arm_env import RobotArmEnv\n",
    "\n",
    "# Update paths for Google Colab\n",
    "DRIVE_PATH = '/content/drive/MyDrive/RobotArm'\n",
    "LOG_DIR = os.path.join(DRIVE_PATH, 'logs/ppo_robot_arm')\n",
    "MODEL_DIR = os.path.join(DRIVE_PATH, 'models/ppo_robot_arm')\n",
    "EVAL_DIR = os.path.join(DRIVE_PATH, 'eval/ppo_robot_arm')\n",
    "\n",
    "# Create directories\n",
    "os.makedirs(LOG_DIR, exist_ok=True)\n",
    "os.makedirs(MODEL_DIR, exist_ok=True)\n",
    "os.makedirs(EVAL_DIR, exist_ok=True)\n",
    "\n",
    "# Training parameters\n",
    "SEED = 42\n",
    "TIMESTEPS = 100_000  # Reduced for testing\n",
    "EP_LEN = 200\n",
    "\n",
    "def make_env():\n",
    "    def _init():\n",
    "        env = RobotArmEnv(xml_path='lowCostRobotArm/robotScene.xml')\n",
    "        env = TimeLimit(env, max_episode_steps=EP_LEN)\n",
    "        env = Monitor(env, filename=os.path.join(LOG_DIR, 'monitor.csv'), allow_early_resets=True)\n",
    "        return env\n",
    "    return _init\n",
    "\n",
    "# Create and wrap the environment\n",
    "env = DummyVecEnv([make_env()])\n",
    "\n",
    "# Callbacks\n",
    "eval_callback = EvalCallback(\n",
    "    env,\n",
    "    best_model_save_path=MODEL_DIR,\n",
    "    log_path=EVAL_DIR,\n",
    "    eval_freq=5000,  # More frequent evaluation for testing\n",
    "    deterministic=True,\n",
    "    render=False\n",
    ")\n",
    "\n",
    "checkpoint_callback = CheckpointCallback(\n",
    "    save_freq=10000,  # More frequent saving for testing\n",
    "    save_path=MODEL_DIR,\n",
    "    name_prefix='ppo_robot_arm'\n",
    ")\n",
    "\n",
    "# Initialize the model with GPU support\n",
    "model = PPO(\n",
    "    'MlpPolicy',\n",
    "    env,\n",
    "    verbose=1,\n",
    "    tensorboard_log=LOG_DIR,\n",
    "    seed=SEED,\n",
    "    device='cuda'\n",
    ")\n",
    "\n",
    "# Train the model\n",
    "model.learn(\n",
    "    total_timesteps=TIMESTEPS,\n",
    "    callback=[eval_callback, checkpoint_callback],\n",
    "    progress_bar=True\n",
    ")\n",
    "\n",
    "# Save the final model\n",
    "final_model_path = os.path.join(MODEL_DIR, 'ppo_robot_arm_final.zip')\n",
    "model.save(final_model_path)\n",
    "print(f'Final model saved to {final_model_path}')"
   ]
  },
  {
   "cell_type": "markdown",
   "id": "e746e5e6",
   "metadata": {},
   "source": [
    "## How to use this notebook\n",
    "\n",
    "1. Click 'Runtime' -> 'Change runtime type' and select 'GPU' as the hardware accelerator\n",
    "2. Run the cells in order\n",
    "3. When prompted, authenticate to mount your Google Drive\n",
    "4. The training will start automatically and save checkpoints to your Google Drive\n",
    "5. You can monitor training progress in the output\n",
    "\n",
    "The trained models and logs will be saved in your Google Drive under the 'RobotArm' folder."
   ]
  }
 ],
 "metadata": {
  "language_info": {
   "name": "python"
  }
 },
 "nbformat": 4,
 "nbformat_minor": 5
}
